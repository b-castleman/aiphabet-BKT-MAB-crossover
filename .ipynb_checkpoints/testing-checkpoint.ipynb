{
 "cells": [
  {
   "cell_type": "code",
   "execution_count": 3,
   "metadata": {
    "pycharm": {
     "is_executing": true,
     "name": "#%%\n"
    }
   },
   "outputs": [
    {
     "name": "stdout",
     "output_type": "stream",
     "text": [
      "Requirement already satisfied: pyBKT in ./venv/lib/python3.8/site-packages (1.4.1)\n",
      "Requirement already satisfied: requests in ./venv/lib/python3.8/site-packages (from pyBKT) (2.31.0)\n",
      "Requirement already satisfied: pandas in ./venv/lib/python3.8/site-packages (from pyBKT) (2.0.3)\n",
      "Requirement already satisfied: scikit-learn in ./venv/lib/python3.8/site-packages (from pyBKT) (1.3.2)\n",
      "Requirement already satisfied: numpy in ./venv/lib/python3.8/site-packages (from pyBKT) (1.24.4)\n",
      "Requirement already satisfied: tzdata>=2022.1 in ./venv/lib/python3.8/site-packages (from pandas->pyBKT) (2023.3)\n",
      "Requirement already satisfied: pytz>=2020.1 in ./venv/lib/python3.8/site-packages (from pandas->pyBKT) (2023.3.post1)\n",
      "Requirement already satisfied: python-dateutil>=2.8.2 in ./venv/lib/python3.8/site-packages (from pandas->pyBKT) (2.8.2)\n",
      "Requirement already satisfied: certifi>=2017.4.17 in ./venv/lib/python3.8/site-packages (from requests->pyBKT) (2023.7.22)\n",
      "Requirement already satisfied: idna<4,>=2.5 in ./venv/lib/python3.8/site-packages (from requests->pyBKT) (3.4)\n",
      "Requirement already satisfied: urllib3<3,>=1.21.1 in ./venv/lib/python3.8/site-packages (from requests->pyBKT) (2.0.7)\n",
      "Requirement already satisfied: charset-normalizer<4,>=2 in ./venv/lib/python3.8/site-packages (from requests->pyBKT) (3.3.2)\n",
      "Requirement already satisfied: threadpoolctl>=2.0.0 in ./venv/lib/python3.8/site-packages (from scikit-learn->pyBKT) (3.2.0)\n",
      "Requirement already satisfied: joblib>=1.1.1 in ./venv/lib/python3.8/site-packages (from scikit-learn->pyBKT) (1.3.2)\n",
      "Requirement already satisfied: scipy>=1.5.0 in ./venv/lib/python3.8/site-packages (from scikit-learn->pyBKT) (1.10.1)\n",
      "Requirement already satisfied: six>=1.5 in ./venv/lib/python3.8/site-packages (from python-dateutil>=2.8.2->pandas->pyBKT) (1.16.0)\n",
      "\u001b[33mWARNING: You are using pip version 21.3.1; however, version 23.3.1 is available.\n",
      "You should consider upgrading via the '/Users/blake/Documents/AIED Research/BKT/venv/bin/python -m pip install --upgrade pip' command.\u001b[0m\n"
     ]
    }
   ],
   "source": [
    "!pip3 install pyBKT"
   ]
  },
  {
   "cell_type": "code",
   "execution_count": 4,
   "metadata": {
    "pycharm": {
     "name": "#%%\n"
    }
   },
   "outputs": [
    {
     "ename": "ModuleNotFoundError",
     "evalue": "No module named 'pyBKT'",
     "output_type": "error",
     "traceback": [
      "\u001b[0;31m---------------------------------------------------------------------------\u001b[0m",
      "\u001b[0;31mModuleNotFoundError\u001b[0m                       Traceback (most recent call last)",
      "Cell \u001b[0;32mIn [4], line 1\u001b[0m\n\u001b[0;32m----> 1\u001b[0m \u001b[38;5;28;01mfrom\u001b[39;00m \u001b[38;5;21;01mpyBKT\u001b[39;00m\u001b[38;5;21;01m.\u001b[39;00m\u001b[38;5;21;01mmodels\u001b[39;00m \u001b[38;5;28;01mimport\u001b[39;00m \u001b[38;5;241m*\u001b[39m\n\u001b[1;32m      2\u001b[0m \u001b[38;5;28;01mimport\u001b[39;00m \u001b[38;5;21;01mnumpy\u001b[39;00m \u001b[38;5;28;01mas\u001b[39;00m \u001b[38;5;21;01mnp\u001b[39;00m\n\u001b[1;32m      4\u001b[0m \u001b[38;5;66;03m# Create a backend pyBKT model and fit it on the CT data\u001b[39;00m\n",
      "\u001b[0;31mModuleNotFoundError\u001b[0m: No module named 'pyBKT'"
     ]
    }
   ],
   "source": [
    "from pyBKT.models import *\n",
    "import numpy as np\n",
    "\n",
    "# Create a backend pyBKT model and fit it on the CT data\n",
    "model = Model()\n",
    "model.fit(data_path = 'ct.csv')"
   ]
  },
  {
   "cell_type": "code",
   "execution_count": null,
   "metadata": {},
   "outputs": [],
   "source": [
    "\n",
    "\n",
    "# Create a Roster with two students, Jeff and Bob, who are participating in the roster\n",
    "# for one skill (Calculate Unit Rate) using the pyBKT model above.\n",
    "roster = Roster(students = ['Jeff', 'Bob'], skills = 'Calculate unit rate', model = model)\n",
    "\n",
    "# Initial mastery state (prior) for Jeff, should be unmastered with low probability of mastery\n",
    "# get_state_type returns whether a student has mastered the skill or not\n",
    "# get_mastery_prob returns the probability a student has mastered the skill\n",
    "print(\"Jeff's mastery (t = 0):\", roster.get_state_type('Calculate unit rate', 'Jeff'))\n",
    "print(\"Jeff's probability of mastery (t = 0):\", roster.get_mastery_prob('Calculate unit rate', 'Jeff'))\n",
    "\n",
    "# We can update Jeff's state by adding one or more responses to a particular skill. In this case,\n",
    "# we observed a correct response for the one skill in the roster.\n",
    "jeff_new_state = roster.update_state('Calculate unit rate', 'Jeff', 1)\n",
    "\n",
    "# Check the updated mastery state and probability.\n",
    "print(\"Jeff's mastery (t = 1):\", roster.get_state_type('Calculate unit rate', 'Jeff'))\n",
    "print(\"Jeff's probability of mastery (t = 1):\", roster.get_mastery_prob('Calculate unit rate', 'Jeff'))\n",
    "\n",
    "# We can update his state with multiple correct responses (ten of them).\n",
    "roster.update_state('Calculate unit rate', 'Jeff', np.ones(10))\n",
    "\n",
    "# After 10 consecutive correct responses, he should have mastered the skill.\n",
    "print(\"Jeff's mastery (t = 11):\", roster.get_state_type('Calculate unit rate', 'Jeff'))\n",
    "print(\"Jeff's probability of mastery (t = 11):\", roster.get_mastery_prob('Calculate unit rate', 'Jeff'))\n",
    "\n",
    "# Programmatically check whether he has mastered the skill\n",
    "if roster.get_state_type('Calculate unit rate', 'Jeff') == StateType.MASTERED:\n",
    "    print(\"Jeff has mastered the skill!\")\n",
    "\n",
    "# We can update Bob's state with two correct responses.\n",
    "roster.update_state('Calculate unit rate', 'Bob', np.ones(2))\n",
    "\n",
    "# He should remain unmastered.\n",
    "print(\"Bob's mastery (t = 2):\", roster.get_state_type('Calculate unit rate', 'Bob'))\n",
    "print(\"Bob's probability of mastery (t = 2):\", roster.get_mastery_prob('Calculate unit rate', 'Bob'))\n",
    "\n",
    "# We can print aggregate statistics for mastery and correctness.\n",
    "print(\"Both students' probabilites of correctness:\", roster.get_correct_probs('Calculate unit rate'))\n",
    "print(\"Both students' probabilites of mastery:\", roster.get_mastery_probs('Calculate unit rate'))\n",
    "\n",
    "# Add a new student, Sarah.\n",
    "roster.add_student('Calculate unit rate', 'Sarah')\n",
    "\n",
    "# Update Sarah's state with a sequence of correct and incorrect responses.\n",
    "sarah_new_state = roster.update_state('Calculate unit rate', 'Sarah', np.array([1, 0, 1, 0, 1, 1, 1]))\n",
    "\n",
    "# Print Sarah's correctness and mastery probability.\n",
    "print(\"Sarah's correctness probability:\", sarah_new_state.get_correct_prob()\n",
    "print(\"Sarah's mastery probability:\", sarah_new_state.get_mastery_prob())\n",
    "\n",
    "# Delete Bob from the roster.\n",
    "roster.remove_student('Calculate unit rate', 'Bob')\n",
    "\n",
    "# Reset student's state (i.e. latent and observable).\n",
    "roster.reset_state('Calculate unit rate', 'Jeff')\n",
    "\n",
    "# Jeff should be back to the initial prior as the mastery probability and should be unmastered.\n",
    "print(\"Jeff's mastery (t' = 0):\", roster.get_state_type('Calculate unit rate', 'Jeff'))\n",
    "print(\"Jeff's probability of mastery (t' = 0):\", roster.get_mastery_prob('Calculate unit rate', 'Jeff'))\n"
   ]
  }
 ],
 "metadata": {
  "kernelspec": {
   "display_name": "Python 3 (ipykernel)",
   "language": "python",
   "name": "python3"
  },
  "language_info": {
   "codemirror_mode": {
    "name": "ipython",
    "version": 3
   },
   "file_extension": ".py",
   "mimetype": "text/x-python",
   "name": "python",
   "nbconvert_exporter": "python",
   "pygments_lexer": "ipython3",
   "version": "3.10.12"
  }
 },
 "nbformat": 4,
 "nbformat_minor": 1
}
