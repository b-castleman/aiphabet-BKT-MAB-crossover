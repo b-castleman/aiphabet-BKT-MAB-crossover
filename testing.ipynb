{
 "cells": [
  {
   "cell_type": "code",
   "execution_count": null,
   "outputs": [],
   "source": [
    "!pip3 install pyBKT"
   ],
   "metadata": {
    "collapsed": false,
    "pycharm": {
     "name": "#%%\n"
    }
   }
  },
  {
   "cell_type": "code",
   "execution_count": null,
   "outputs": [],
   "source": [
    "from pyBKT.models import *\n",
    "import numpy as np\n",
    "\n",
    "# Create a backend pyBKT model and fit it on the CT data\n",
    "model = Model()\n",
    "model.fit(data_path = 'ct.csv')"
   ],
   "metadata": {
    "collapsed": false,
    "pycharm": {
     "name": "#%%\n"
    }
   }
  },
  {
   "cell_type": "code",
   "execution_count": null,
   "outputs": [],
   "source": [
    "\n",
    "\n",
    "# Create a Roster with two students, Jeff and Bob, who are participating in the roster\n",
    "# for one skill (Calculate Unit Rate) using the pyBKT model above.\n",
    "roster = Roster(students = ['Jeff', 'Bob'], skills = 'Calculate unit rate', model = model)\n",
    "\n",
    "# Initial mastery state (prior) for Jeff, should be unmastered with low probability of mastery\n",
    "# get_state_type returns whether a student has mastered the skill or not\n",
    "# get_mastery_prob returns the probability a student has mastered the skill\n",
    "print(\"Jeff's mastery (t = 0):\", roster.get_state_type('Calculate unit rate', 'Jeff'))\n",
    "print(\"Jeff's probability of mastery (t = 0):\", roster.get_mastery_prob('Calculate unit rate', 'Jeff'))\n",
    "\n",
    "# We can update Jeff's state by adding one or more responses to a particular skill. In this case,\n",
    "# we observed a correct response for the one skill in the roster.\n",
    "jeff_new_state = roster.update_state('Calculate unit rate', 'Jeff', 1)\n",
    "\n",
    "# Check the updated mastery state and probability.\n",
    "print(\"Jeff's mastery (t = 1):\", roster.get_state_type('Calculate unit rate', 'Jeff'))\n",
    "print(\"Jeff's probability of mastery (t = 1):\", roster.get_mastery_prob('Calculate unit rate', 'Jeff'))\n",
    "\n",
    "# We can update his state with multiple correct responses (ten of them).\n",
    "roster.update_state('Calculate unit rate', 'Jeff', np.ones(10))\n",
    "\n",
    "# After 10 consecutive correct responses, he should have mastered the skill.\n",
    "print(\"Jeff's mastery (t = 11):\", roster.get_state_type('Calculate unit rate', 'Jeff'))\n",
    "print(\"Jeff's probability of mastery (t = 11):\", roster.get_mastery_prob('Calculate unit rate', 'Jeff'))\n",
    "\n",
    "# Programmatically check whether he has mastered the skill\n",
    "if roster.get_state_type('Calculate unit rate', 'Jeff') == StateType.MASTERED:\n",
    "    print(\"Jeff has mastered the skill!\")\n",
    "\n",
    "# We can update Bob's state with two correct responses.\n",
    "roster.update_state('Calculate unit rate', 'Bob', np.ones(2))\n",
    "\n",
    "# He should remain unmastered.\n",
    "print(\"Bob's mastery (t = 2):\", roster.get_state_type('Calculate unit rate', 'Bob'))\n",
    "print(\"Bob's probability of mastery (t = 2):\", roster.get_mastery_prob('Calculate unit rate', 'Bob'))\n",
    "\n",
    "# We can print aggregate statistics for mastery and correctness.\n",
    "print(\"Both students' probabilites of correctness:\", roster.get_correct_probs('Calculate unit rate'))\n",
    "print(\"Both students' probabilites of mastery:\", roster.get_mastery_probs('Calculate unit rate'))\n",
    "\n",
    "# Add a new student, Sarah.\n",
    "roster.add_student('Calculate unit rate', 'Sarah')\n",
    "\n",
    "# Update Sarah's state with a sequence of correct and incorrect responses.\n",
    "sarah_new_state = roster.update_state('Calculate unit rate', 'Sarah', np.array([1, 0, 1, 0, 1, 1, 1]))\n",
    "\n",
    "# Print Sarah's correctness and mastery probability.\n",
    "print(\"Sarah's correctness probability:\", sarah_new_state.get_correct_prob()\n",
    "print(\"Sarah's mastery probability:\", sarah_new_state.get_mastery_prob())\n",
    "\n",
    "# Delete Bob from the roster.\n",
    "roster.remove_student('Calculate unit rate', 'Bob')\n",
    "\n",
    "# Reset student's state (i.e. latent and observable).\n",
    "roster.reset_state('Calculate unit rate', 'Jeff')\n",
    "\n",
    "# Jeff should be back to the initial prior as the mastery probability and should be unmastered.\n",
    "print(\"Jeff's mastery (t' = 0):\", roster.get_state_type('Calculate unit rate', 'Jeff'))\n",
    "print(\"Jeff's probability of mastery (t' = 0):\", roster.get_mastery_prob('Calculate unit rate', 'Jeff'))\n"
   ],
   "metadata": {
    "collapsed": false,
    "pycharm": {
     "name": "#%%\n"
    }
   }
  },
  {
   "cell_type": "code",
   "execution_count": null,
   "metadata": {},
   "outputs": [],
   "source": [
    "\n",
    "\n",
    "# Create a Roster with two students, Jeff and Bob, who are participating in the roster\n",
    "# for one skill (Calculate Unit Rate) using the pyBKT model above.\n",
    "roster = Roster(students = ['Jeff', 'Bob'], skills = 'Calculate unit rate', model = model)\n",
    "\n",
    "# Initial mastery state (prior) for Jeff, should be unmastered with low probability of mastery\n",
    "# get_state_type returns whether a student has mastered the skill or not\n",
    "# get_mastery_prob returns the probability a student has mastered the skill\n",
    "print(\"Jeff's mastery (t = 0):\", roster.get_state_type('Calculate unit rate', 'Jeff'))\n",
    "print(\"Jeff's probability of mastery (t = 0):\", roster.get_mastery_prob('Calculate unit rate', 'Jeff'))\n",
    "\n",
    "# We can update Jeff's state by adding one or more responses to a particular skill. In this case,\n",
    "# we observed a correct response for the one skill in the roster.\n",
    "jeff_new_state = roster.update_state('Calculate unit rate', 'Jeff', 1)\n",
    "\n",
    "# Check the updated mastery state and probability.\n",
    "print(\"Jeff's mastery (t = 1):\", roster.get_state_type('Calculate unit rate', 'Jeff'))\n",
    "print(\"Jeff's probability of mastery (t = 1):\", roster.get_mastery_prob('Calculate unit rate', 'Jeff'))\n",
    "\n",
    "# We can update his state with multiple correct responses (ten of them).\n",
    "roster.update_state('Calculate unit rate', 'Jeff', np.ones(10))\n",
    "\n",
    "# After 10 consecutive correct responses, he should have mastered the skill.\n",
    "print(\"Jeff's mastery (t = 11):\", roster.get_state_type('Calculate unit rate', 'Jeff'))\n",
    "print(\"Jeff's probability of mastery (t = 11):\", roster.get_mastery_prob('Calculate unit rate', 'Jeff'))\n",
    "\n",
    "# Programmatically check whether he has mastered the skill\n",
    "if roster.get_state_type('Calculate unit rate', 'Jeff') == StateType.MASTERED:\n",
    "    print(\"Jeff has mastered the skill!\")\n",
    "\n",
    "# We can update Bob's state with two correct responses.\n",
    "roster.update_state('Calculate unit rate', 'Bob', np.ones(2))\n",
    "\n",
    "# He should remain unmastered.\n",
    "print(\"Bob's mastery (t = 2):\", roster.get_state_type('Calculate unit rate', 'Bob'))\n",
    "print(\"Bob's probability of mastery (t = 2):\", roster.get_mastery_prob('Calculate unit rate', 'Bob'))\n",
    "\n",
    "# We can print aggregate statistics for mastery and correctness.\n",
    "print(\"Both students' probabilites of correctness:\", roster.get_correct_probs('Calculate unit rate'))\n",
    "print(\"Both students' probabilites of mastery:\", roster.get_mastery_probs('Calculate unit rate'))\n",
    "\n",
    "# Add a new student, Sarah.\n",
    "roster.add_student('Calculate unit rate', 'Sarah')\n",
    "\n",
    "# Update Sarah's state with a sequence of correct and incorrect responses.\n",
    "sarah_new_state = roster.update_state('Calculate unit rate', 'Sarah', np.array([1, 0, 1, 0, 1, 1, 1]))\n",
    "\n",
    "# Print Sarah's correctness and mastery probability.\n",
    "print(\"Sarah's correctness probability:\", sarah_new_state.get_correct_prob()\n",
    "print(\"Sarah's mastery probability:\", sarah_new_state.get_mastery_prob())\n",
    "\n",
    "# Delete Bob from the roster.\n",
    "roster.remove_student('Calculate unit rate', 'Bob')\n",
    "\n",
    "# Reset student's state (i.e. latent and observable).\n",
    "roster.reset_state('Calculate unit rate', 'Jeff')\n",
    "\n",
    "# Jeff should be back to the initial prior as the mastery probability and should be unmastered.\n",
    "print(\"Jeff's mastery (t' = 0):\", roster.get_state_type('Calculate unit rate', 'Jeff'))\n",
    "print(\"Jeff's probability of mastery (t' = 0):\", roster.get_mastery_prob('Calculate unit rate', 'Jeff'))\n"
   ]
  }
 ],
 "metadata": {
  "kernelspec": {
   "display_name": "Python 3 (ipykernel)",
   "language": "python",
   "name": "python3"
  },
  "language_info": {
   "codemirror_mode": {
    "name": "ipython",
    "version": 3
   },
   "file_extension": ".py",
   "mimetype": "text/x-python",
   "name": "python",
   "nbconvert_exporter": "python",
   "pygments_lexer": "ipython3",
   "version": "3.10.12"
  }
 },
 "nbformat": 4,
 "nbformat_minor": 1
}